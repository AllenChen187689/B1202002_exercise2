{
  "nbformat": 4,
  "nbformat_minor": 0,
  "metadata": {
    "colab": {
      "provenance": []
    },
    "kernelspec": {
      "name": "python3",
      "display_name": "Python 3"
    },
    "language_info": {
      "name": "python"
    }
  },
  "cells": [
    {
      "cell_type": "code",
      "execution_count": 23,
      "metadata": {
        "colab": {
          "base_uri": "https://localhost:8080/"
        },
        "id": "lPEzgmvjZuXA",
        "outputId": "a6736927-6204-46d3-d701-ed6d519d07c2"
      },
      "outputs": [
        {
          "output_type": "stream",
          "name": "stdout",
          "text": [
            "{'姓名': '賴宏瑋', '性別': '男', '作業分數': [100, 100, 90], '學號': 'M1129020'}\n",
            "平均: 96.66666666666667\n"
          ]
        }
      ],
      "source": [
        "a={'姓名':'賴宏瑋','性別':'男','作業分數':[80,95,100,90]}\n",
        "b={'學號':'M1129020'}\n",
        "c={**a,**b}\n",
        "\n",
        "c['作業分數'][1]=100\n",
        "\n",
        "del c['作業分數'][0]\n",
        "print(c)\n",
        "f=c['作業分數'][0]+c['作業分數'][1]+c['作業分數'][2]\n",
        "q=f/3\n",
        "print('平均:',q)\n",
        "\n",
        "\n"
      ]
    }
  ]
}